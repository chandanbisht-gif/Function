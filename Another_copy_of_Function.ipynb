{
  "nbformat": 4,
  "nbformat_minor": 0,
  "metadata": {
    "colab": {
      "provenance": []
    },
    "kernelspec": {
      "name": "python3",
      "display_name": "Python 3"
    },
    "language_info": {
      "name": "python"
    }
  },
  "cells": [
    {
      "cell_type": "markdown",
      "source": [
        "Theory Questions:"
      ],
      "metadata": {
        "id": "vdtl6hgMFX6c"
      }
    },
    {
      "cell_type": "code",
      "source": [],
      "metadata": {
        "id": "OmpO0UusGAPm"
      },
      "execution_count": null,
      "outputs": []
    },
    {
      "cell_type": "markdown",
      "source": [
        "What is the difference between a function and a method in Python?\n",
        "\n",
        "- In Python, both functions and methods are blocks of code that perform a specific task. However, there's a key difference between them:\n",
        "\n",
        "*Function:*\n",
        "\n",
        "- A function is a self-contained block of code that takes arguments, performs some operations, and returns a value.\n",
        "- Functions are not tied to any specific object or class.\n",
        "- You can call a function from anywhere in your code.\n",
        "\n",
        "Example:\n",
        "def greet(name):\n",
        "    print(f\"Hello, {name}!\")\n",
        "\n",
        "greet(\"Geeta\")  # Output: Hello, Geeta!\n",
        "*Method:*\n",
        "\n",
        "- A method is a function that is defined inside a class and is bound to an instance of that class.\n",
        "- Methods typically operate on the instance's attributes (data) and can modify its state.\n",
        "- You call a method on an instance of the class.\n",
        "\n",
        "Example:\n",
        "class Person:\n",
        "    def __init__(self, name):\n",
        "        self.name = name\n",
        "\n",
        "    def greet(self):\n",
        "        print(f\"Hello, my name is {self.name}!\")\n",
        "\n",
        "p = Person(\"Preeti\")\n",
        "p.greet()  # Output: Hello, my name is Pretti!\n",
        "In summary:\n",
        "\n",
        "- Functions are standalone blocks of code that can be called from anywhere.\n",
        "- Methods are functions that are part of a class and operate on instances of that class.\n",
        "\n",
        "When you define a function inside a class, it becomes a method. When you call a method, Python automatically passes the instance as the first argument (usually referred to as `self`)."
      ],
      "metadata": {
        "id": "NL6d80vuGGeW"
      }
    },
    {
      "cell_type": "code",
      "source": [],
      "metadata": {
        "id": "Uaaw0249GwsE"
      },
      "execution_count": null,
      "outputs": []
    },
    {
      "cell_type": "markdown",
      "source": [
        "2 Explain the concept of function arguments and parameters in Python.\n",
        "\n",
        "-*Function Arguments and Parameters:*\n",
        "\n",
        "- *Parameters:* These are the variables defined in the function definition. They are placeholders for the values that will be passed to the function.\n",
        "- *Arguments:* These are the actual values passed to the function when it is called.\n",
        "\n",
        "*Example:*\n",
        "def greet(name):  # 'name' is a parameter\n",
        "    print(f\"Hello, {name}!\")\n",
        "\n",
        "greet(\"Seema\")  # 'Seema' is an argument\n",
        "In this example:\n",
        "\n",
        "- `name` is a parameter of the `greet` function.\n",
        "- `\"Seema\"` is an argument passed to the `greet` function when it is called.\n",
        "\n",
        "When the function is called, the argument `\"Seema\"` is assigned to the parameter `name`, and the function uses this value to print the greeting message."
      ],
      "metadata": {
        "id": "1iFTEgzOHXCY"
      }
    },
    {
      "cell_type": "markdown",
      "source": [
        "What are the different ways to define and call a function in Python?\n",
        "\n",
        "-*Defining a Function:*\n",
        "\n",
        "1. *Simple Function:* `def function_name(parameters):`\n",
        "def greet(name):\n",
        "    print(f\"Hello, {name}!\")\n",
        "2. *Function with Default Arguments:* `def function_name(parameter=default_value):`\n",
        "def greet(name=\"World\"):\n",
        "    print(f\"Hello, {name}!\")\n",
        "3. *Function with Variable Arguments:* `def function_name(*args):`\n",
        "def greet(*names):\n",
        "    for name in names:\n",
        "        print(f\"Hello, {name}!\")\n",
        "4. *Function with Keyword Arguments:* `def function_name(**kwargs):`\n",
        "def greet(**person):\n",
        "    print(f\"Hello, {person['name']}!\")\n",
        "5. *Lambda Function:* `lambda arguments: expression`\n",
        "greet = lambda name: print(f\"Hello, {name}!\")\n",
        "*Calling a Function:*\n",
        "\n",
        "1. *Positional Arguments:* `function_name(argument1, argument2)`\n",
        "def greet(name, age):\n",
        "    print(f\"Hello, {name}! You are {age} years old.\")\n",
        "greet(\"Sita\", 30)\n",
        "2. *Keyword Arguments:* `function_name(argument1=value1, argument2=value2)`\n",
        "def greet(name, age):\n",
        "    print(f\"Hello, {name}! You are {age} years old.\")\n",
        "greet(name=\"Sita\", age=30)\n",
        "3. *Mixing Positional and Keyword Arguments:* `function_name(argument1, argument2=value2)`\n",
        "def greet(name, age):\n",
        "    print(f\"Hello, {name}! You are {age} years old.\")\n",
        "greet(\"Sita\", age=30)"
      ],
      "metadata": {
        "id": "07LJHSCTHXiy"
      }
    },
    {
      "cell_type": "markdown",
      "source": [
        "4 What is the purpose of the `return` statement in a Python function?\n",
        "-*Purpose of `return` Statement:*\n",
        "\n",
        "The `return` statement in a Python function is used to:\n",
        "\n",
        "1. *Exit the function:* When a `return` statement is encountered, the function execution is stopped, and control is passed back to the caller.\n",
        "2. *Return a value:* The `return` statement can specify a value to be returned to the caller, which can then be used in the calling code.\n",
        "\n",
        "*Example:*\n",
        "def add(a, b):\n",
        "    result = a + b\n",
        "    return result\n",
        "\n",
        "result = add(2, 3)\n",
        "print(result)  # Output: 5\n",
        "In this example, the `add` function calculates the sum of `a` and `b` and returns the result using the `return` statement. The returned value is then assigned to the `result` variable in the calling code.\n",
        "\n",
        "*Key Points:*\n",
        "\n",
        "- A function can have multiple `return` statements, but only one will be executed.\n",
        "- If no `return` statement is specified, the function will return `None` by default.\n",
        "- The `return` statement can be used to return multiple values, which can be unpacked into separate variables in the calling code. For example: `return a, b` can be unpacked as `x, y = function_name()`."
      ],
      "metadata": {
        "id": "uUyscvw8HX8Q"
      }
    },
    {
      "cell_type": "markdown",
      "source": [
        "What are iterators in Python and how do they differ from iterables?\n",
        "- *Iterators and Iterables:*\n",
        "\n",
        "- *Iterable:* An object that can be iterated over, such as a list, tuple, or string. An iterable object defines the `__iter__()` method, which returns an iterator object.\n",
        "- *Iterator:* An object that keeps track of its position and returns the next value each time it is called. An iterator object defines the `__next__()` method, which returns the next value in the sequence.\n",
        "\n",
        "*Example:*\n",
        "my_list = [1, 2, 3]  # my_list is an iterable\n",
        "\n",
        "# Create an iterator object from the iterable\n",
        "my_iter = iter(my_list)\n",
        "\n",
        "# Use the next() function to retrieve values from the iterator\n",
        "print(next(my_iter))  # Output: 1\n",
        "print(next(my_iter))  # Output: 2\n",
        "print(next(my_iter))  # Output: 3\n",
        "\n",
        "# Trying to call next() again will raise a StopIteration exception\n",
        "try:\n",
        "    print(next(my_iter))\n",
        "except StopIteration:\n",
        "    print(\"No more values\")\n",
        "*Key Differences:*\n",
        "\n",
        "- *Iterables* can be iterated over multiple times, while *iterators* can only be iterated over once.\n",
        "- *Iterables* define the `__iter__()` method, while *iterators* define the `__next__()` method.\n",
        "\n",
        "*Benefits:*\n",
        "\n",
        "- *Iterators* are memory-efficient because they only store the current position and not the entire sequence.\n",
        "- *Iterators* can be used to implement lazy evaluation, where values are computed only when needed.\n",
        "\n",
        "In summary, iterables are objects that can be iterated over, while iterators are objects that perform the iteration. Understanding the difference between iterables and iterators can help you write more efficient and effective code in Python."
      ],
      "metadata": {
        "id": "WSFqk4IgKec6"
      }
    },
    {
      "cell_type": "markdown",
      "source": [
        "Exlain the concept of generators in Python and how they are defined\n",
        ".*Generators in Python:*\n",
        "\n",
        "- A generator is a special type of iterable object that can be used to generate a sequence of values on-the-fly, rather than computing them all at once and storing them in memory.\n",
        "- Generators are defined using functions and the `yield` keyword.\n",
        "\n",
        "*Defining a Generator:*\n",
        "\n",
        "- A generator function is defined like a regular function, but instead of using the `return` statement, it uses the `yield` statement to produce a value.\n",
        "- When a generator function is called, it returns a generator object, which can be iterated over using a `for` loop or the `next()` function.\n",
        "\n",
        "*Example:*\n",
        "def infinite_sequence():\n",
        "    num = 0\n",
        "    while True:\n",
        "        yield num\n",
        "        num += 1\n",
        "\n",
        "gen = infinite_sequence()\n",
        "print(next(gen))  # Output: 0\n",
        "print(next(gen))  # Output: 1\n",
        "print(next(gen))  # Output: 2\n",
        "*How Generators Work:*\n",
        "\n",
        "- When a generator function is called, it doesn't execute immediately. Instead, it returns a generator object.\n",
        "- When `next()` is called on the generator object, the generator function executes until it reaches a `yield` statement, at which point it returns the yielded value.\n",
        "- The generator function then pauses, remembering its current state, and waits for the next call to `next()`.\n",
        "\n",
        "*Benefits:*\n",
        "\n",
        "- Generators are memory-efficient because they only store the current state and not the entire sequence.\n",
        "- Generators can be used to implement lazy evaluation, where values are computed only when needed.\n",
        "\n",
        "*Use Cases:*\n",
        "\n",
        "- Generators are useful when working with large datasets or infinite sequences, where computing all values at once would be impractical or impossible.\n",
        "- Generators can also be used to implement cooperative multitasking, where tasks yield control to other tasks voluntarily."
      ],
      "metadata": {
        "id": "cvcqdr7ZL1Z4"
      }
    },
    {
      "cell_type": "markdown",
      "source": [
        "What is a lambda function in Python and when is it typically used?\n",
        "-*Lambda Function:*\n",
        "\n",
        "- A lambda function is a small, anonymous function that can be defined inline within a larger expression.\n",
        "- It consists of three parts: the `lambda` keyword, an argument list, and an expression that defines the function's behavior.\n",
        "\n",
        "*Syntax:*\n",
        "lambda arguments: expression\n",
        "*Example:*\n",
        "double = lambda x: x * 2\n",
        "print(double(5))  # Output: 10\n",
        "*When to Use:*\n",
        "\n",
        "- *One-time use:* Lambda functions are useful when you need a small, one-time-use function that doesn't warrant a separate named function.\n",
        "- *Higher-order functions:* Lambda functions are often used as arguments to higher-order functions, such as `map()`, `filter()`, and `reduce()`.\n",
        "- *Data processing:* Lambda functions can be used to perform simple data transformations or filtering operations.\n",
        "\n",
        "*Example with `map()`:*\n",
        "numbers = [1, 2, 3, 4, 5]\n",
        "squared_numbers = list(map(lambda x: x ** 2, numbers))\n",
        "print(squared_numbers)  # Output: [1, 4, 9, 16, 25]\n",
        "*Benefits:*\n",
        "\n",
        "- *Concise code:* Lambda functions can make your code more concise and readable.\n",
        "- *Flexibility:* Lambda functions can be defined inline, making them useful for one-time-use cases.\n",
        "\n",
        "*When Not to Use:*\n",
        "\n",
        "- *Complex logic:* Lambda functions are best suited for simple, one-line expressions. For more complex logic, a named function is usually more readable and maintainable.\n",
        "- *Debugging:* Lambda functions can be harder to debug due to their anonymous nature."
      ],
      "metadata": {
        "id": "esE2HwbrMfmA"
      }
    },
    {
      "cell_type": "markdown",
      "source": [
        "Explain the purpose and usage of the `map()` function in Python.\n",
        "-*Purpose of `map()`:*\n",
        "\n",
        "- The `map()` function applies a given function to each item of an iterable (such as a list, tuple, or string) and returns a map object.\n",
        "- It allows you to transform or process data in a concise and efficient way.\n",
        "\n",
        "*Usage:*\n",
        "\n",
        "- `map(function, iterable)`: Applies the `function` to each item of the `iterable`.\n",
        "- `map(function, iterable1, iterable2, ...)`: Applies the `function` to corresponding items of multiple iterables.\n",
        "\n",
        "*Example:*\n",
        "def square(x):\n",
        "    return x ** 2\n",
        "\n",
        "numbers = [1, 2, 3, 4, 5]\n",
        "squared_numbers = list(map(square, numbers))\n",
        "print(squared_numbers)  # Output: [1, 4, 9, 16, 25]\n",
        "*Using Lambda Function with `map()`:*\n",
        "numbers = [1, 2, 3, 4, 5]\n",
        "squared_numbers = list(map(lambda x: x ** 2, numbers))\n",
        "print(squared_numbers)  # Output: [1, 4, 9, 16, 25]\n",
        "*Multiple Iterables:*\n",
        "def add(x, y):\n",
        "    return x + y\n",
        "\n",
        "numbers1 = [1, 2, 3]\n",
        "numbers2 = [4, 5, 6]\n",
        "result = list(map(add, numbers1, numbers2))\n",
        "print(result)  # Output: [5, 7, 9]\n",
        "*Benefits:*\n",
        "\n",
        "- *Concise code:* `map()` allows you to write concise and readable code for data processing.\n",
        "- *Efficient:* `map()` is often faster than using a `for` loop.\n",
        "\n",
        "*When to Use:*\n",
        "\n",
        "- *Data transformation:* Use `map()` when you need to apply a transformation to each item of an iterable.\n",
        "- *Data processing:* Use `map()` when you need to perform a simple operation on each item of an iterable."
      ],
      "metadata": {
        "id": "q1B1BpoVM6yg"
      }
    },
    {
      "cell_type": "markdown",
      "source": [
        "What is the difference between `map()`, `reduce()`, and `filter()` functions in Python?\n",
        "- *Map, Filter, and Reduce Functions in Python*\n",
        "\n",
        "These three functions are essential in functional programming and allow you to perform operations on iterables in a concise and efficient way.\n",
        "\n",
        "- *Map Function*\n",
        "    - Applies a given function to each item of an iterable (such as a list or tuple) and returns a map object.\n",
        "    - Syntax: `map(function, iterable)`\n",
        "    - Example: Squaring numbers in a list\n",
        "```\n",
        "```\n",
        "numbers = [1, 2, 3, 4, 5]\n",
        "squared_numbers = list(map(lambda x: x ** 2, numbers))\n",
        "print(squared_numbers)  # Output: [1, 4, 9, 16, 25]\n",
        "\n",
        "*   **Filter Function**\n",
        "    *   Creates an iterator from elements of an iterable for which a function returns True.\n",
        "    *   Syntax: `filter(function, iterable)`\n",
        "    *   Example: Filtering even numbers from a list\n",
        "        ```python\n",
        "numbers = [1, 2, 3, 4, 5]\n",
        "even_numbers = list(filter(lambda x: x % 2 == 0, numbers))\n",
        "print(even_numbers)  # Output: [2, 4]\n",
        "\n",
        "- *Reduce Function*\n",
        "    - Applies a function of two arguments cumulatively to the items of an iterable, reducing it to a single value.\n",
        "    - Syntax: `reduce(function, iterable)`\n",
        "    - Example: Summing numbers in a list\n",
        "```\n",
        "```\n",
        "from functools import reduce\n",
        "numbers = [1, 2, 3, 4, 5]\n",
        "sum_of_numbers = reduce(lambda x, y: x + y, numbers)\n",
        "print(sum_of_numbers)  # Output: 15\n",
        " ¹\n",
        "These functions can be combined to perform complex operations. For instance, you can use `map()` to square numbers, `filter()` to keep even squares, and `reduce()` to sum them ¹."
      ],
      "metadata": {
        "id": "8_vFqGDlNigv"
      }
    },
    {
      "cell_type": "markdown",
      "source": [
        "Using pen & Paper write the internal mechanism for sum operation using  reduce function on this given\n",
        "list:[47,11,42,13];\n",
        "-"
      ],
      "metadata": {
        "id": "xDKz_J28ONFk"
      }
    },
    {
      "cell_type": "markdown",
      "source": [
        "Practical Questions"
      ],
      "metadata": {
        "id": "f19vK6waPBDd"
      }
    },
    {
      "cell_type": "markdown",
      "source": [
        "Write a Python function that takes a list of numbers as input and returns the sum of all even numbers in\n",
        "the list."
      ],
      "metadata": {
        "id": "5lnlbIuZPGua"
      }
    },
    {
      "cell_type": "code",
      "source": [
        "def sum_even_numbers(numbers):\n",
        "    even_sum = sum(num for num in numbers if num % 2 == 0)\n",
        "    return even_sum\n",
        "\n",
        "# Example usage:\n",
        "numbers = [47, 11, 42, 13]\n",
        "result = sum_even_numbers(numbers)\n",
        "print(\"The sum of even numbers is:\", result)"
      ],
      "metadata": {
        "id": "vuBruM2JPB5A",
        "outputId": "c3b3afa9-4cd0-499a-c1ee-caae9dc27517",
        "colab": {
          "base_uri": "https://localhost:8080/"
        }
      },
      "execution_count": null,
      "outputs": [
        {
          "output_type": "stream",
          "name": "stdout",
          "text": [
            "The sum of even numbers is: 42\n"
          ]
        }
      ]
    },
    {
      "cell_type": "markdown",
      "source": [
        " Create a Python function that accepts a string and returns the reverse of that string."
      ],
      "metadata": {
        "id": "T1EOlIcYCmb3"
      }
    },
    {
      "cell_type": "code",
      "source": [
        "\n",
        "\n",
        "def reverse_string(s):\n",
        "    return s[::-1]\n",
        "\n",
        "# Example usage:\n",
        "input_str = \"Hello, World!\"\n",
        "reversed_str = reverse_string(input_str)\n",
        "print(\"Reversed string:\", reversed_str)"
      ],
      "metadata": {
        "id": "ltAD_kC-Qt6h",
        "outputId": "2fb66002-01ae-486d-c66d-961b8a2ac82d",
        "colab": {
          "base_uri": "https://localhost:8080/"
        }
      },
      "execution_count": null,
      "outputs": [
        {
          "output_type": "stream",
          "name": "stdout",
          "text": [
            "Reversed string: !dlroW ,olleH\n"
          ]
        }
      ]
    },
    {
      "cell_type": "markdown",
      "source": [
        "implement a Python function that takes a list of integers and returns a new list containing the squares of\n",
        "each number."
      ],
      "metadata": {
        "id": "4hw1FhBcQ9-Q"
      }
    },
    {
      "cell_type": "code",
      "source": [
        "def square_numbers(numbers):\n",
        "    return [num ** 2 for num in numbers]\n",
        "\n",
        "# Example usage:\n",
        "numbers = [1, 2, 3, 4, 5]\n",
        "squared_numbers = square_numbers(numbers)\n",
        "print(\"Squared numbers:\", squared_numbers)"
      ],
      "metadata": {
        "id": "QsUdjkbSRHZB",
        "outputId": "599ecf6b-a4b9-4929-82f0-7659b556cf52",
        "colab": {
          "base_uri": "https://localhost:8080/"
        }
      },
      "execution_count": null,
      "outputs": [
        {
          "output_type": "stream",
          "name": "stdout",
          "text": [
            "Squared numbers: [1, 4, 9, 16, 25]\n"
          ]
        }
      ]
    },
    {
      "cell_type": "markdown",
      "source": [
        "Write a Python function that checks if a given number is prime or not from 1 to 200."
      ],
      "metadata": {
        "id": "_0u7FK5rRzVb"
      }
    },
    {
      "cell_type": "code",
      "source": [
        "def is_prime(n):\n",
        "    if n <= 1:\n",
        "        return False\n",
        "    for i in range(2, int(n ** 0.5) + 1):\n",
        "        if n % i == 0:\n",
        "            return False\n",
        "    return True\n",
        "\n",
        "# Example usage:\n",
        "for num in range(1, 201):\n",
        "    if is_prime(num):\n",
        "        print(f\"{num} is a prime number\")\n",
        "\n",
        "# Alternatively, you can check a specific number\n",
        "num = 23\n",
        "if is_prime(num):\n",
        "    print(f\"{num} is a prime number\")\n",
        "else:\n",
        "    print(f\"{num} is not a prime number\")"
      ],
      "metadata": {
        "id": "oQe5Ybf7R6bD",
        "outputId": "21a6f726-434a-4392-a670-0a7eeb4ae4ea",
        "colab": {
          "base_uri": "https://localhost:8080/"
        }
      },
      "execution_count": null,
      "outputs": [
        {
          "output_type": "stream",
          "name": "stdout",
          "text": [
            "2 is a prime number\n",
            "3 is a prime number\n",
            "5 is a prime number\n",
            "7 is a prime number\n",
            "11 is a prime number\n",
            "13 is a prime number\n",
            "17 is a prime number\n",
            "19 is a prime number\n",
            "23 is a prime number\n",
            "29 is a prime number\n",
            "31 is a prime number\n",
            "37 is a prime number\n",
            "41 is a prime number\n",
            "43 is a prime number\n",
            "47 is a prime number\n",
            "53 is a prime number\n",
            "59 is a prime number\n",
            "61 is a prime number\n",
            "67 is a prime number\n",
            "71 is a prime number\n",
            "73 is a prime number\n",
            "79 is a prime number\n",
            "83 is a prime number\n",
            "89 is a prime number\n",
            "97 is a prime number\n",
            "101 is a prime number\n",
            "103 is a prime number\n",
            "107 is a prime number\n",
            "109 is a prime number\n",
            "113 is a prime number\n",
            "127 is a prime number\n",
            "131 is a prime number\n",
            "137 is a prime number\n",
            "139 is a prime number\n",
            "149 is a prime number\n",
            "151 is a prime number\n",
            "157 is a prime number\n",
            "163 is a prime number\n",
            "167 is a prime number\n",
            "173 is a prime number\n",
            "179 is a prime number\n",
            "181 is a prime number\n",
            "191 is a prime number\n",
            "193 is a prime number\n",
            "197 is a prime number\n",
            "199 is a prime number\n",
            "23 is a prime number\n"
          ]
        }
      ]
    },
    {
      "cell_type": "markdown",
      "source": [
        "Create an iterator class in Python that generates the Fibonacci sequence up to a specified number of\n",
        "terms."
      ],
      "metadata": {
        "id": "SLkzED9dSJKG"
      }
    },
    {
      "cell_type": "code",
      "source": [
        "class FibonacciIterator:\n",
        "    def __init__(self, n):\n",
        "        self.n = n\n",
        "        self.current_term = 0\n",
        "        self.a, self.b = 0, 1\n",
        "\n",
        "    def __iter__(self):\n",
        "        return self\n",
        "\n",
        "    def __next__(self):\n",
        "        if self.current_term < self.n:\n",
        "            result = self.a\n",
        "            self.a, self.b = self.b, self.a + self.b\n",
        "            self.current_term += 1\n",
        "            return result\n",
        "        else:\n",
        "            raise StopIteration\n",
        "\n",
        "# Example usage:\n",
        "n = 10  # Number of terms in the Fibonacci sequence\n",
        "fib_iterator = FibonacciIterator(n)\n",
        "\n",
        "print(\"Fibonacci sequence up to\", n, \"terms:\")\n",
        "for term in fib_iterator:\n",
        "    print(term)"
      ],
      "metadata": {
        "id": "nUBHayHMSTk_",
        "outputId": "736e08c1-a427-48c7-bf53-9627d2e4721f",
        "colab": {
          "base_uri": "https://localhost:8080/"
        }
      },
      "execution_count": null,
      "outputs": [
        {
          "output_type": "stream",
          "name": "stdout",
          "text": [
            "Fibonacci sequence up to 10 terms:\n",
            "0\n",
            "1\n",
            "1\n",
            "2\n",
            "3\n",
            "5\n",
            "8\n",
            "13\n",
            "21\n",
            "34\n"
          ]
        }
      ]
    },
    {
      "cell_type": "markdown",
      "source": [
        "Write a generator function in Python that yields the powers of 2 up to a given exponent."
      ],
      "metadata": {
        "id": "BZegZeixSf11"
      }
    },
    {
      "cell_type": "code",
      "source": [
        "def powers_of_two(n):\n",
        "    for i in range(n + 1):\n",
        "        yield 2 ** i\n",
        "\n",
        "# Example usage:\n",
        "n = 5  # Exponent up to which powers of 2 are generated\n",
        "print(\"Powers of 2 up to exponent\", n, \":\")\n",
        "for power in powers_of_two(n):\n",
        "    print(power)"
      ],
      "metadata": {
        "id": "4m7HdIl_Swdm",
        "outputId": "21a8da8a-3536-4bdd-c84f-91290b235d47",
        "colab": {
          "base_uri": "https://localhost:8080/"
        }
      },
      "execution_count": null,
      "outputs": [
        {
          "output_type": "stream",
          "name": "stdout",
          "text": [
            "Powers of 2 up to exponent 5 :\n",
            "1\n",
            "2\n",
            "4\n",
            "8\n",
            "16\n",
            "32\n"
          ]
        }
      ]
    },
    {
      "cell_type": "markdown",
      "source": [
        "Implement a generator function that reads a file line by line and yields each line as a string."
      ],
      "metadata": {
        "id": "KmqcGcv9S0z1"
      }
    },
    {
      "cell_type": "code",
      "source": [
        "def read_file_line_by_line(file_path):\n",
        "    try:\n",
        "        with open(file_path, 'r') as file:\n",
        "            for line in file:\n",
        "                yield line.strip()\n",
        "    except FileNotFoundError:\n",
        "        print(f\"File '{file_path}' not found.\")\n",
        "    except Exception as e:\n",
        "        print(f\"An error occurred: {e}\")\n",
        "\n",
        "# Example usage:\n",
        "file_path = 'example.txt'\n",
        "print(\"Reading file line by line:\")\n",
        "for line in read_file_line_by_line(file_path):\n",
        "    print(line)"
      ],
      "metadata": {
        "id": "2gzROuYMTIYG",
        "outputId": "d7dce152-6019-41a0-b371-04574effb655",
        "colab": {
          "base_uri": "https://localhost:8080/"
        }
      },
      "execution_count": null,
      "outputs": [
        {
          "output_type": "stream",
          "name": "stdout",
          "text": [
            "Reading file line by line:\n",
            "File 'example.txt' not found.\n"
          ]
        }
      ]
    },
    {
      "cell_type": "markdown",
      "source": [
        "Use a lambda function in Python to sort a list of tuples based on the second element of each tuple."
      ],
      "metadata": {
        "id": "qSGCqtSeTUY5"
      }
    },
    {
      "cell_type": "code",
      "source": [
        "# List of tuples\n",
        "tuples_list = [(3, 6), (1, 9), (2, 4), (4, 1), (5, 7)]\n",
        "\n",
        "# Sort the list of tuples based on the second element of each tuple\n",
        "sorted_tuples = sorted(tuples_list, key=lambda x: x[1])\n",
        "\n",
        "print(\"Sorted list of tuples:\")\n",
        "print(sorted_tuples)"
      ],
      "metadata": {
        "id": "3d3DiEYfTfb_",
        "outputId": "a4955e2c-96fd-4de1-c2aa-9a8e4a42c6f1",
        "colab": {
          "base_uri": "https://localhost:8080/"
        }
      },
      "execution_count": null,
      "outputs": [
        {
          "output_type": "stream",
          "name": "stdout",
          "text": [
            "Sorted list of tuples:\n",
            "[(4, 1), (2, 4), (3, 6), (5, 7), (1, 9)]\n"
          ]
        }
      ]
    },
    {
      "cell_type": "code",
      "source": [],
      "metadata": {
        "id": "xFi6_TiDT1ig"
      },
      "execution_count": null,
      "outputs": []
    },
    {
      "cell_type": "markdown",
      "source": [
        "Write a Python program that uses `map()` to convert a list of temperatures from Celsius to Fahrenheit."
      ],
      "metadata": {
        "id": "yUCMkbQETsG1"
      }
    },
    {
      "cell_type": "code",
      "source": [
        "def celsius_to_fahrenheit(celsius):\n",
        "    return (celsius * 9/5) + 32\n",
        "\n",
        "# List of temperatures in Celsius\n",
        "celsius_temps = [0, 10, 20, 30, 40]\n",
        "\n",
        "# Use map() to convert Celsius to Fahrenheit\n",
        "fahrenheit_temps = list(map(celsius_to_fahrenheit, celsius_temps))\n",
        "\n",
        "print(\"Temperatures in Celsius:\", celsius_temps)\n",
        "print(\"Temperatures in Fahrenheit:\", fahrenheit_temps)"
      ],
      "metadata": {
        "id": "SOpufjqST3MX",
        "outputId": "1eb23090-d57e-43e1-b836-f1e37d2ce92c",
        "colab": {
          "base_uri": "https://localhost:8080/"
        }
      },
      "execution_count": null,
      "outputs": [
        {
          "output_type": "stream",
          "name": "stdout",
          "text": [
            "Temperatures in Celsius: [0, 10, 20, 30, 40]\n",
            "Temperatures in Fahrenheit: [32.0, 50.0, 68.0, 86.0, 104.0]\n"
          ]
        }
      ]
    },
    {
      "cell_type": "markdown",
      "source": [
        "Create a Python program that uses `filter()` to remove all the vowels from a given string."
      ],
      "metadata": {
        "id": "EeOqO8sOUBtZ"
      }
    },
    {
      "cell_type": "code",
      "source": [
        "def is_not_vowel(char):\n",
        "    vowels = 'aeiouAEIOU'\n",
        "    return char not in vowels\n",
        "\n",
        "def remove_vowels(input_string):\n",
        "    return ''.join(filter(is_not_vowel, input_string))\n",
        "\n",
        "# Test the function\n",
        "input_string = \"Hello, World!\"\n",
        "print(\"Original string:\", input_string)\n",
        "print(\"String without vowels:\", remove_vowels(input_string))"
      ],
      "metadata": {
        "id": "5iyne5CvUL_S",
        "outputId": "b9276513-de05-4715-f3e5-056b892cf8bc",
        "colab": {
          "base_uri": "https://localhost:8080/"
        }
      },
      "execution_count": null,
      "outputs": [
        {
          "output_type": "stream",
          "name": "stdout",
          "text": [
            "Original string: Hello, World!\n",
            "String without vowels: Hll, Wrld!\n"
          ]
        }
      ]
    },
    {
      "cell_type": "markdown",
      "source": [
        "Imagine an accounting routine used in a book shop. It works on a list with sublists, which look like this:\n",
        "\n",
        "Order number  :34587,98762,77226,88112\n",
        "Book Title and author: Learning Python,Mark Lut2, Programming Python,Mark Lut2,Head first Python,Paul Barry,Einfufrung in Python 3,Bernd Klein\n",
        "Quantity:4,4,3,3\n",
        "Price per item:40.95,56.80,32.95,24.99\n",
        "\n",
        "\n",
        "\n",
        "\n",
        "\n",
        "Write a Python program, which returns a list with 2-tuples. Each tuple consists of the order number and the\n",
        "product of the price per item and the quantity. The product should be increased by 10,- € if the value of the\n",
        "order is smaller than 100,00 €.\n",
        "\n",
        "Write a Python program using lambda and map."
      ],
      "metadata": {
        "id": "pM1fOIKrY7ox"
      }
    },
    {
      "cell_type": "code",
      "source": [
        "# Given data\n",
        "order_numbers = [34587, 98762, 77226, 88112]\n",
        "quantities = [4, 4, 3, 3]\n",
        "prices = [40.95, 56.80, 32.95, 24.99]\n",
        "\n",
        "# Calculate order totals\n",
        "order_totals = list(map(lambda x, y, z: (x, y * z + 10 if y * z < 100 else y * z), order_numbers, quantities, prices))\n",
        "\n",
        "print(\"Order Totals:\")\n",
        "for order in order_totals:\n",
        "    print(f\"Order Number: {order[0]}, Total: {order[1]:.2f} €\")"
      ],
      "metadata": {
        "id": "8NVi-hH9ZPxE",
        "outputId": "d0c19206-34f4-4b40-89c7-de18d988854d",
        "colab": {
          "base_uri": "https://localhost:8080/"
        }
      },
      "execution_count": null,
      "outputs": [
        {
          "output_type": "stream",
          "name": "stdout",
          "text": [
            "Order Totals:\n",
            "Order Number: 34587, Total: 163.80 €\n",
            "Order Number: 98762, Total: 227.20 €\n",
            "Order Number: 77226, Total: 108.85 €\n",
            "Order Number: 88112, Total: 84.97 €\n"
          ]
        }
      ]
    }
  ]
}